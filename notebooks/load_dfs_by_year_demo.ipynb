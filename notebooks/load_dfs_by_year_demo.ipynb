{
 "cells": [
  {
   "cell_type": "markdown",
   "id": "0232ff03",
   "metadata": {},
   "source": [
    "# ↓ Load CSVs by Year (Demo)\n",
    "\n",
    "Este notebook demonstra a lógica utilizada para:\n",
    "\n",
    "- Carregar automaticamente todos os arquivos `.csv` da pasta `data/raw/`\n",
    "- Organizar os arquivos em DataFrames separados por ano (dicionário `dfs[ano]`)\n",
    "- Exibir uma amostra dos dados carregados\n",
    "\n",
    "> ⚠️ Esta lógica é usada no script `transform/load_dfs_by_year.py`."
   ]
  },
  {
   "cell_type": "markdown",
   "id": "f16ec2ce",
   "metadata": {},
   "source": [
    "### 1. Importa o setup de caminho para garantir que os módulos do projeto sejam encontrados corretamente."
   ]
  },
  {
   "cell_type": "code",
   "execution_count": 12,
   "id": "ea37794b",
   "metadata": {},
   "outputs": [],
   "source": [
    "from config.setup_path import *"
   ]
  },
  {
   "cell_type": "markdown",
   "id": "82ffa2cd",
   "metadata": {},
   "source": [
    "### 2. Importação de funções e carregamento de variáveis"
   ]
  },
  {
   "cell_type": "code",
   "execution_count": 11,
   "id": "da027b07",
   "metadata": {},
   "outputs": [
    {
     "data": {
      "text/plain": [
       "True"
      ]
     },
     "execution_count": 11,
     "metadata": {},
     "output_type": "execute_result"
    }
   ],
   "source": [
    "from transform.load_dfs_by_year import load_csvs_by_year\n",
    "from aws.session import get_s3_client\n",
    "import os\n",
    "from dotenv import load_dotenv\n",
    "\n",
    "load_dotenv()"
   ]
  },
  {
   "cell_type": "markdown",
   "id": "da5ab9aa",
   "metadata": {},
   "source": [
    "### 3. Cria o cliente S3 autenticado com as credenciais carregadas do arquivo `.env`."
   ]
  },
  {
   "cell_type": "code",
   "execution_count": 13,
   "id": "eaf70bb7",
   "metadata": {},
   "outputs": [],
   "source": [
    "s3 = get_s3_client()"
   ]
  },
  {
   "cell_type": "markdown",
   "id": "18c97cfd",
   "metadata": {},
   "source": [
    "### 4. Cria o cliente S3 autenticado com as credenciais carregadas do arquivo `.env`."
   ]
  },
  {
   "cell_type": "code",
   "execution_count": 18,
   "id": "c8235b76",
   "metadata": {},
   "outputs": [],
   "source": [
    "bucket_name = os.getenv('s3_bucket')"
   ]
  },
  {
   "cell_type": "markdown",
   "id": "c86cec19",
   "metadata": {},
   "source": [
    "### 5. Consulta todos os objetos presentes no bucket com prefixo padrão."
   ]
  },
  {
   "cell_type": "code",
   "execution_count": 16,
   "id": "2deda384",
   "metadata": {},
   "outputs": [],
   "source": [
    "response = s3.list_objects(Bucket=bucket_name)"
   ]
  },
  {
   "cell_type": "markdown",
   "id": "a7cf3966",
   "metadata": {},
   "source": [
    "### 6. Exibe as chaves (paths) dos arquivos armazenados no bucket S3."
   ]
  },
  {
   "cell_type": "code",
   "execution_count": 19,
   "id": "9ded437d",
   "metadata": {},
   "outputs": [
    {
     "data": {
      "text/plain": [
       "['bronze/',\n",
       " 'bronze/data_2015.parquet',\n",
       " 'bronze/data_2016.parquet',\n",
       " 'bronze/data_2017.parquet',\n",
       " 'bronze/data_2018.parquet',\n",
       " 'bronze/data_2019.parquet',\n",
       " 'bronze/data_2020.parquet',\n",
       " 'bronze/denovo',\n",
       " 'bronze/hello-s3',\n",
       " 'bronze/hello-s3-2',\n",
       " 'silver/']"
      ]
     },
     "execution_count": 19,
     "metadata": {},
     "output_type": "execute_result"
    }
   ],
   "source": [
    "keys = [obj['Key'] for obj in response['Contents']]\n",
    "keys"
   ]
  }
 ],
 "metadata": {
  "kernelspec": {
   "display_name": "venv",
   "language": "python",
   "name": "python3"
  },
  "language_info": {
   "codemirror_mode": {
    "name": "ipython",
    "version": 3
   },
   "file_extension": ".py",
   "mimetype": "text/x-python",
   "name": "python",
   "nbconvert_exporter": "python",
   "pygments_lexer": "ipython3",
   "version": "3.10.13"
  }
 },
 "nbformat": 4,
 "nbformat_minor": 5
}
