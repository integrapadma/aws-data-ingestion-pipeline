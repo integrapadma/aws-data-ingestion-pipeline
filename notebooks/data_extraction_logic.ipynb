{
 "cells": [
  {
   "cell_type": "markdown",
   "id": "85bf85d1",
   "metadata": {},
   "source": [
    "## ↓ Coleta de Dados CSV (Pipeline AWS)\n",
    "\n",
    "Este notebook demonstra a lógica usada para:\n",
    "- Download de arquivos CSV públicos a partir de uma lista de URLs\n",
    "- Armazena os arquivos localmente na pasta `../data`\n",
    "- Garante que o diretório existe antes de salvar\n",
    "- Utiliza cabeçalhos HTTP (User-Agent) para evitar bloqueios de acesso\n",
    "\n",
    "Esse passo faz parte da etapa de extração (bronze) do pipeline.\n",
    "\n",
    "> ⚠️ Esta é apenas uma demonstração. A execução oficial deve ser feita via o script `scripts/extract_data.py`."
   ]
  },
  {
   "cell_type": "code",
   "execution_count": 7,
   "id": "acfd13ff",
   "metadata": {},
   "outputs": [],
   "source": [
    "import requests\n",
    "import os"
   ]
  },
  {
   "cell_type": "markdown",
   "id": "30e7da9c",
   "metadata": {},
   "source": [
    "### 1. Definindo as URLs dos arquivos CSV públicos"
   ]
  },
  {
   "cell_type": "code",
   "execution_count": null,
   "id": "277748a0",
   "metadata": {},
   "outputs": [],
   "source": [
    "# Lista de URLs dos arquivos CSV a serem baixados\n",
    "urls = [\n",
    "    \"https://data.boston.gov/dataset/8048697b-ad64-4bfc-b090-ee00169f2323/resource/c9509ab4-6f6d-4b97-979a-0cf2a10c922b/download/tmphrybkxuh.csv\",\n",
    "    \"https://data.boston.gov/dataset/8048697b-ad64-4bfc-b090-ee00169f2323/resource/b7ea6b1b-3ca4-4c5b-9713-6dc1db52379a/download/tmpzxzxeqfb.csv\",\n",
    "    \"https://data.boston.gov/dataset/8048697b-ad64-4bfc-b090-ee00169f2323/resource/30022137-709d-465e-baae-ca155b51927d/download/tmpzccn8u4q.csv\",\n",
    "    \"https://data.boston.gov/dataset/8048697b-ad64-4bfc-b090-ee00169f2323/resource/2be28d90-3a90-4af1-a3f6-f28c1e25880a/download/tmp7602cia8.csv\",\n",
    "    \"https://data.boston.gov/dataset/8048697b-ad64-4bfc-b090-ee00169f2323/resource/ea2e4696-4a2d-429c-9807-d02eb92e0222/download/tmpcje3ep_w.csv\",\n",
    "    \"https://data.boston.gov/dataset/8048697b-ad64-4bfc-b090-ee00169f2323/resource/6ff6a6fd-3141-4440-a880-6f60a37fe789/download/tmpcv_10m2s.csv\"\n",
    "]"
   ]
  },
  {
   "cell_type": "markdown",
   "id": "7b575702",
   "metadata": {},
   "source": [
    "### 2. Definindo onde cada arquivo será salvo"
   ]
  },
  {
   "cell_type": "code",
   "execution_count": null,
   "id": "dca500d1",
   "metadata": {},
   "outputs": [],
   "source": [
    "# Caminhos onde os arquivos baixados serão salvos\n",
    "filenames = [\n",
    "    \"../data/raw/data_2015.csv\",\n",
    "    \"../data/raw/data_2016.csv\",\n",
    "    \"../data/raw/data_2017.csv\",\n",
    "    \"../data/raw/data_2018.csv\",\n",
    "    \"../data/raw/data_2019.csv\",\n",
    "    \"../data/raw/data_2020.csv\"\n",
    "]\n"
   ]
  },
  {
   "cell_type": "markdown",
   "id": "3bea17f0",
   "metadata": {},
   "source": [
    "### 3. Função de extração com tratamento de erro e cabeçalho HTTP"
   ]
  },
  {
   "cell_type": "code",
   "execution_count": 15,
   "id": "e63fa4d9",
   "metadata": {},
   "outputs": [],
   "source": [
    "# Função para baixar um arquivo de uma URL e salvá-lo com o nome indicado\n",
    "def extract_data(url, filename):\n",
    "  try:\n",
    "      headers = {'User-Agent': 'Mozilla/5.0'}\n",
    "      response = requests.get(url, headers=headers)\n",
    "\n",
    "      if response.status_code == 200:\n",
    "        # Garante que o diretório de destino existe (cria se não existir)\n",
    "        os.makedirs(os.path.dirname(filename), exist_ok=True)\n",
    "        # Abre o arquivo no modo binário de escrita e salva o conteúdo\n",
    "        with open(filename, 'wb') as f:\n",
    "          f.write(response.content)\n",
    "          print(f'File downloaded and saved as {filename}')\n",
    "      else:\n",
    "        print(f'Failed to download the file. Status code: {response.status_code}')\n",
    "\n",
    "      print(f'Extracted {filename}')\n",
    "  except Exception as e:\n",
    "    print(e)"
   ]
  },
  {
   "cell_type": "markdown",
   "id": "ec672140",
   "metadata": {},
   "source": [
    "### 4. Execução da função de extração com pares URL → Path"
   ]
  },
  {
   "cell_type": "code",
   "execution_count": null,
   "id": "6e9facff",
   "metadata": {},
   "outputs": [
    {
     "name": "stdout",
     "output_type": "stream",
     "text": [
      "File downloaded and saved as ../data/data_2015.csv\n",
      "Extracted ../data/data_2015.csv\n",
      "File downloaded and saved as ../data/data_2016.csv\n",
      "Extracted ../data/data_2016.csv\n",
      "File downloaded and saved as ../data/data_2017.csv\n",
      "Extracted ../data/data_2017.csv\n",
      "File downloaded and saved as ../data/data_2018.csv\n",
      "Extracted ../data/data_2018.csv\n",
      "File downloaded and saved as ../data/data_2019.csv\n",
      "Extracted ../data/data_2019.csv\n",
      "File downloaded and saved as ../data/data_2020.csv\n",
      "Extracted ../data/data_2020.csv\n"
     ]
    }
   ],
   "source": [
    "# Loop para executar o download de cada URL e salvar com o nome correspondente\n",
    "for url, filename in zip(urls, filenames):\n",
    "  extract_data(url, filename)"
   ]
  }
 ],
 "metadata": {
  "kernelspec": {
   "display_name": "venv",
   "language": "python",
   "name": "python3"
  },
  "language_info": {
   "codemirror_mode": {
    "name": "ipython",
    "version": 3
   },
   "file_extension": ".py",
   "mimetype": "text/x-python",
   "name": "python",
   "nbconvert_exporter": "python",
   "pygments_lexer": "ipython3",
   "version": "3.10.13"
  }
 },
 "nbformat": 4,
 "nbformat_minor": 5
}
